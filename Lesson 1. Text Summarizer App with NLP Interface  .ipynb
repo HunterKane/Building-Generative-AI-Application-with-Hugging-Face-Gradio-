{
 "cells": [
  {
   "cell_type": "markdown",
   "id": "f0a76a58",
   "metadata": {},
   "source": [
    "# Lesson 1: NLP tasks with a simple interface "
   ]
  },
  {
   "cell_type": "code",
   "execution_count": 4,
   "id": "37f90455",
   "metadata": {},
   "outputs": [],
   "source": [
    "#Import Library & API Key from Hugging Face\n",
    "import os\n",
    "import io\n",
    "from IPython.display import Image, display, HTML\n",
    "from PIL import Image\n",
    "import base64 \n",
    "hf_api_key = ['HF- API Key']"
   ]
  },
  {
   "cell_type": "code",
   "execution_count": 6,
   "id": "2422f232",
   "metadata": {},
   "outputs": [],
   "source": [
    "# Helper function\n",
    "import requests, json\n",
    "\n",
    "#Summarization endpoint\n",
    "def get_completion(inputs, parameters=None,ENDPOINT_URL= ['HF- API Key']): \n",
    "    headers = {\n",
    "      \"Authorization\": f\"Bearer {hf_api_key}\",\n",
    "      \"Content-Type\": \"application/json\"\n",
    "    }\n",
    "    data = { \"inputs\": inputs }\n",
    "    if parameters is not None:\n",
    "        data.update({\"parameters\": parameters})\n",
    "    response = requests.request(\"POST\",\n",
    "                                ENDPOINT_URL, headers=headers,\n",
    "                                data=json.dumps(data)\n",
    "                               )\n",
    "    return json.loads(response.content.decode(\"utf-8\"))"
   ]
  },
  {
   "cell_type": "code",
   "execution_count": 8,
   "id": "1c7b44b1",
   "metadata": {},
   "outputs": [
    {
     "name": "stdout",
     "output_type": "stream",
     "text": [
      "Collecting transformers\n",
      "  Downloading transformers-4.39.1-py3-none-any.whl.metadata (134 kB)\n",
      "     ---------------------------------------- 0.0/134.8 kB ? eta -:--:--\n",
      "     -------------------------------------- 134.8/134.8 kB 4.0 MB/s eta 0:00:00\n",
      "Requirement already satisfied: filelock in c:\\users\\hunter\\appdata\\local\\programs\\python\\python311\\lib\\site-packages (from transformers) (3.12.4)\n",
      "Collecting huggingface-hub<1.0,>=0.19.3 (from transformers)\n",
      "  Downloading huggingface_hub-0.22.1-py3-none-any.whl.metadata (12 kB)\n",
      "Requirement already satisfied: numpy>=1.17 in c:\\users\\hunter\\appdata\\local\\programs\\python\\python311\\lib\\site-packages (from transformers) (1.26.3)\n",
      "Requirement already satisfied: packaging>=20.0 in c:\\users\\hunter\\appdata\\local\\programs\\python\\python311\\lib\\site-packages (from transformers) (23.1)\n",
      "Requirement already satisfied: pyyaml>=5.1 in c:\\users\\hunter\\appdata\\local\\programs\\python\\python311\\lib\\site-packages (from transformers) (6.0)\n",
      "Collecting regex!=2019.12.17 (from transformers)\n",
      "  Downloading regex-2023.12.25-cp311-cp311-win_amd64.whl.metadata (41 kB)\n",
      "     ---------------------------------------- 0.0/42.0 kB ? eta -:--:--\n",
      "     ---------------------------------------- 42.0/42.0 kB ? eta 0:00:00\n",
      "Requirement already satisfied: requests in c:\\users\\hunter\\appdata\\local\\programs\\python\\python311\\lib\\site-packages (from transformers) (2.31.0)\n",
      "Collecting tokenizers<0.19,>=0.14 (from transformers)\n",
      "  Downloading tokenizers-0.15.2-cp311-none-win_amd64.whl.metadata (6.8 kB)\n",
      "Collecting safetensors>=0.4.1 (from transformers)\n",
      "  Downloading safetensors-0.4.2-cp311-none-win_amd64.whl.metadata (3.9 kB)\n",
      "Requirement already satisfied: tqdm>=4.27 in c:\\users\\hunter\\appdata\\local\\programs\\python\\python311\\lib\\site-packages (from transformers) (4.66.2)\n",
      "Collecting fsspec>=2023.5.0 (from huggingface-hub<1.0,>=0.19.3->transformers)\n",
      "  Downloading fsspec-2024.3.1-py3-none-any.whl.metadata (6.8 kB)\n",
      "Requirement already satisfied: typing-extensions>=3.7.4.3 in c:\\users\\hunter\\appdata\\local\\programs\\python\\python311\\lib\\site-packages (from huggingface-hub<1.0,>=0.19.3->transformers) (4.10.0)\n",
      "Requirement already satisfied: colorama in c:\\users\\hunter\\appdata\\local\\programs\\python\\python311\\lib\\site-packages (from tqdm>=4.27->transformers) (0.4.6)\n",
      "Requirement already satisfied: charset-normalizer<4,>=2 in c:\\users\\hunter\\appdata\\local\\programs\\python\\python311\\lib\\site-packages (from requests->transformers) (3.2.0)\n",
      "Requirement already satisfied: idna<4,>=2.5 in c:\\users\\hunter\\appdata\\local\\programs\\python\\python311\\lib\\site-packages (from requests->transformers) (3.4)\n",
      "Requirement already satisfied: urllib3<3,>=1.21.1 in c:\\users\\hunter\\appdata\\local\\programs\\python\\python311\\lib\\site-packages (from requests->transformers) (2.0.3)\n",
      "Requirement already satisfied: certifi>=2017.4.17 in c:\\users\\hunter\\appdata\\local\\programs\\python\\python311\\lib\\site-packages (from requests->transformers) (2023.5.7)\n",
      "Downloading transformers-4.39.1-py3-none-any.whl (8.8 MB)\n",
      "   ---------------------------------------- 0.0/8.8 MB ? eta -:--:--\n",
      "   -- ------------------------------------- 0.5/8.8 MB 9.6 MB/s eta 0:00:01\n",
      "   --- ------------------------------------ 0.9/8.8 MB 9.2 MB/s eta 0:00:01\n",
      "   ------ --------------------------------- 1.4/8.8 MB 9.8 MB/s eta 0:00:01\n",
      "   -------- ------------------------------- 1.9/8.8 MB 10.2 MB/s eta 0:00:01\n",
      "   ----------- ---------------------------- 2.5/8.8 MB 10.5 MB/s eta 0:00:01\n",
      "   ------------- -------------------------- 2.9/8.8 MB 10.7 MB/s eta 0:00:01\n",
      "   -------------- ------------------------- 3.1/8.8 MB 10.0 MB/s eta 0:00:01\n",
      "   --------------- ------------------------ 3.4/8.8 MB 9.3 MB/s eta 0:00:01\n",
      "   ---------------- ----------------------- 3.6/8.8 MB 8.7 MB/s eta 0:00:01\n",
      "   ---------------- ----------------------- 3.7/8.8 MB 8.2 MB/s eta 0:00:01\n",
      "   ----------------- ---------------------- 3.9/8.8 MB 7.7 MB/s eta 0:00:01\n",
      "   ------------------ --------------------- 4.0/8.8 MB 7.3 MB/s eta 0:00:01\n",
      "   ------------------ --------------------- 4.2/8.8 MB 7.0 MB/s eta 0:00:01\n",
      "   ------------------- -------------------- 4.4/8.8 MB 6.8 MB/s eta 0:00:01\n",
      "   -------------------- ------------------- 4.5/8.8 MB 6.7 MB/s eta 0:00:01\n",
      "   --------------------- ------------------ 4.8/8.8 MB 6.6 MB/s eta 0:00:01\n",
      "   ---------------------- ----------------- 5.0/8.8 MB 6.6 MB/s eta 0:00:01\n",
      "   ----------------------- ---------------- 5.3/8.8 MB 6.5 MB/s eta 0:00:01\n",
      "   ------------------------- -------------- 5.5/8.8 MB 6.4 MB/s eta 0:00:01\n",
      "   -------------------------- ------------- 5.8/8.8 MB 6.3 MB/s eta 0:00:01\n",
      "   --------------------------- ------------ 6.0/8.8 MB 6.3 MB/s eta 0:00:01\n",
      "   ---------------------------- ----------- 6.3/8.8 MB 6.3 MB/s eta 0:00:01\n",
      "   ----------------------------- ---------- 6.5/8.8 MB 6.2 MB/s eta 0:00:01\n",
      "   ------------------------------ --------- 6.7/8.8 MB 6.1 MB/s eta 0:00:01\n",
      "   -------------------------------- ------- 7.1/8.8 MB 6.2 MB/s eta 0:00:01\n",
      "   --------------------------------- ------ 7.4/8.8 MB 6.2 MB/s eta 0:00:01\n",
      "   ---------------------------------- ----- 7.7/8.8 MB 6.3 MB/s eta 0:00:01\n",
      "   ------------------------------------ --- 8.0/8.8 MB 6.3 MB/s eta 0:00:01\n",
      "   -------------------------------------- - 8.5/8.8 MB 6.5 MB/s eta 0:00:01\n",
      "   ---------------------------------------  8.8/8.8 MB 6.5 MB/s eta 0:00:01\n",
      "   ---------------------------------------  8.8/8.8 MB 6.5 MB/s eta 0:00:01\n",
      "   ---------------------------------------- 8.8/8.8 MB 6.3 MB/s eta 0:00:00\n",
      "Downloading huggingface_hub-0.22.1-py3-none-any.whl (388 kB)\n",
      "   ---------------------------------------- 0.0/388.6 kB ? eta -:--:--\n",
      "   ------------------------------------ --- 358.4/388.6 kB 7.4 MB/s eta 0:00:01\n",
      "   ---------------------------------------- 388.6/388.6 kB 6.0 MB/s eta 0:00:00\n",
      "Downloading regex-2023.12.25-cp311-cp311-win_amd64.whl (269 kB)\n",
      "   ---------------------------------------- 0.0/269.5 kB ? eta -:--:--\n",
      "   ---------------------------------------  266.2/269.5 kB 8.3 MB/s eta 0:00:01\n",
      "   ---------------------------------------- 269.5/269.5 kB 5.6 MB/s eta 0:00:00\n",
      "Downloading safetensors-0.4.2-cp311-none-win_amd64.whl (269 kB)\n",
      "   ---------------------------------------- 0.0/269.6 kB ? eta -:--:--\n",
      "   ---------------------------------------- 269.6/269.6 kB 5.5 MB/s eta 0:00:00\n",
      "Downloading tokenizers-0.15.2-cp311-none-win_amd64.whl (2.2 MB)\n",
      "   ---------------------------------------- 0.0/2.2 MB ? eta -:--:--\n",
      "   ----- ---------------------------------- 0.3/2.2 MB 9.2 MB/s eta 0:00:01\n",
      "   ----------- ---------------------------- 0.6/2.2 MB 7.9 MB/s eta 0:00:01\n",
      "   ----------------- ---------------------- 1.0/2.2 MB 7.7 MB/s eta 0:00:01\n",
      "   ------------------------ --------------- 1.4/2.2 MB 7.8 MB/s eta 0:00:01\n",
      "   ------------------------------- -------- 1.7/2.2 MB 7.9 MB/s eta 0:00:01\n",
      "   ------------------------------------- -- 2.0/2.2 MB 8.1 MB/s eta 0:00:01\n",
      "   ---------------------------------------- 2.2/2.2 MB 7.4 MB/s eta 0:00:00\n",
      "Downloading fsspec-2024.3.1-py3-none-any.whl (171 kB)\n",
      "   ---------------------------------------- 0.0/172.0 kB ? eta -:--:--\n",
      "   --------------------------------------- 172.0/172.0 kB 10.8 MB/s eta 0:00:00\n",
      "Installing collected packages: safetensors, regex, fsspec, huggingface-hub, tokenizers, transformers\n",
      "Successfully installed fsspec-2024.3.1 huggingface-hub-0.22.1 regex-2023.12.25 safetensors-0.4.2 tokenizers-0.15.2 transformers-4.39.1\n"
     ]
    },
    {
     "name": "stderr",
     "output_type": "stream",
     "text": [
      "\n",
      "[notice] A new release of pip is available: 23.3.2 -> 24.0\n",
      "[notice] To update, run: python.exe -m pip install --upgrade pip\n"
     ]
    }
   ],
   "source": [
    "#Install transformers\n",
    "!pip install transformers"
   ]
  },
  {
   "cell_type": "code",
   "execution_count": 10,
   "id": "2d339099",
   "metadata": {},
   "outputs": [
    {
     "data": {
      "application/vnd.jupyter.widget-view+json": {
       "model_id": "e88b3039a36c4c8c8d9e20f8547a7735",
       "version_major": 2,
       "version_minor": 0
      },
      "text/plain": [
       "config.json:   0%|          | 0.00/1.80k [00:00<?, ?B/s]"
      ]
     },
     "metadata": {},
     "output_type": "display_data"
    },
    {
     "name": "stderr",
     "output_type": "stream",
     "text": [
      "C:\\Users\\hunter\\AppData\\Local\\Programs\\Python\\Python311\\Lib\\site-packages\\huggingface_hub\\file_download.py:148: UserWarning: `huggingface_hub` cache-system uses symlinks by default to efficiently store duplicated files but your machine does not support them in C:\\Users\\hunter\\.cache\\huggingface\\hub\\models--sshleifer--distilbart-cnn-12-6. Caching files will still work but in a degraded version that might require more space on your disk. This warning can be disabled by setting the `HF_HUB_DISABLE_SYMLINKS_WARNING` environment variable. For more details, see https://huggingface.co/docs/huggingface_hub/how-to-cache#limitations.\n",
      "To support symlinks on Windows, you either need to activate Developer Mode or to run Python as an administrator. In order to see activate developer mode, see this article: https://docs.microsoft.com/en-us/windows/apps/get-started/enable-your-device-for-development\n",
      "  warnings.warn(message)\n"
     ]
    },
    {
     "data": {
      "application/vnd.jupyter.widget-view+json": {
       "model_id": "fd9e7d16350545f698763be06d83d2ab",
       "version_major": 2,
       "version_minor": 0
      },
      "text/plain": [
       "pytorch_model.bin:   0%|          | 0.00/1.22G [00:00<?, ?B/s]"
      ]
     },
     "metadata": {},
     "output_type": "display_data"
    },
    {
     "name": "stderr",
     "output_type": "stream",
     "text": [
      "C:\\Users\\hunter\\AppData\\Local\\Programs\\Python\\Python311\\Lib\\site-packages\\torch\\_utils.py:776: UserWarning: TypedStorage is deprecated. It will be removed in the future and UntypedStorage will be the only storage class. This should only matter to you if you are using storages directly.  To access UntypedStorage directly, use tensor.untyped_storage() instead of tensor.storage()\n",
      "  return self.fget.__get__(instance, owner)()\n"
     ]
    },
    {
     "data": {
      "application/vnd.jupyter.widget-view+json": {
       "model_id": "9b7bbd1014a446628bd929114d209940",
       "version_major": 2,
       "version_minor": 0
      },
      "text/plain": [
       "tokenizer_config.json:   0%|          | 0.00/26.0 [00:00<?, ?B/s]"
      ]
     },
     "metadata": {},
     "output_type": "display_data"
    },
    {
     "data": {
      "application/vnd.jupyter.widget-view+json": {
       "model_id": "fc541145ee7147a389de58946d537b17",
       "version_major": 2,
       "version_minor": 0
      },
      "text/plain": [
       "vocab.json:   0%|          | 0.00/899k [00:00<?, ?B/s]"
      ]
     },
     "metadata": {},
     "output_type": "display_data"
    },
    {
     "data": {
      "application/vnd.jupyter.widget-view+json": {
       "model_id": "db0b4fe7a41049eda3afa4426a8785bd",
       "version_major": 2,
       "version_minor": 0
      },
      "text/plain": [
       "merges.txt:   0%|          | 0.00/456k [00:00<?, ?B/s]"
      ]
     },
     "metadata": {},
     "output_type": "display_data"
    }
   ],
   "source": [
    "# Use summarize LLM from distilbart \n",
    "from transformers import pipeline\n",
    "\n",
    "get_completion = pipeline(\"summarization\", model=\"sshleifer/distilbart-cnn-12-6\")\n",
    "\n",
    "def summarize(input):\n",
    "    output = get_completion(input)\n",
    "    return output[0]['summary_text']"
   ]
  },
  {
   "cell_type": "markdown",
   "id": "d3f2e4e1",
   "metadata": {},
   "source": [
    "# Building a text summarization app"
   ]
  },
  {
   "cell_type": "code",
   "execution_count": 11,
   "id": "640b139f",
   "metadata": {},
   "outputs": [
    {
     "data": {
      "text/plain": [
       "[{'summary_text': ' The tower is 324 metres (1,063 ft) tall, about the same height as an 81-storey building . It is the tallest structure in Paris and the second tallest free-standing structure in France after the Millau Viaduct . It was the first structure in the world to reach a height of 300 metres .'}]"
      ]
     },
     "execution_count": 11,
     "metadata": {},
     "output_type": "execute_result"
    }
   ],
   "source": [
    "#Text to use to test summarizer \n",
    "text = ('''The tower is 324 metres (1,063 ft) tall, about the same height\n",
    "        as an 81-storey building, and the tallest structure in Paris. \n",
    "        Its base is square, measuring 125 metres (410 ft) on each side. \n",
    "        During its construction, the Eiffel Tower surpassed the Washington \n",
    "        Monument to become the tallest man-made structure in the world,\n",
    "        a title it held for 41 years until the Chrysler Building\n",
    "        in New York City was finished in 1930. It was the first structure \n",
    "        to reach a height of 300 metres. Due to the addition of a broadcasting \n",
    "        aerial at the top of the tower in 1957, it is now taller than the \n",
    "        Chrysler Building by 5.2 metres (17 ft). Excluding transmitters, the \n",
    "        Eiffel Tower is the second tallest free-standing structure in France \n",
    "        after the Millau Viaduct.''')\n",
    "\n",
    "get_completion(text)"
   ]
  },
  {
   "cell_type": "code",
   "execution_count": 14,
   "id": "68ab30c3",
   "metadata": {},
   "outputs": [
    {
     "name": "stdout",
     "output_type": "stream",
     "text": [
      "Collecting gradio\n",
      "  Downloading gradio-4.24.0-py3-none-any.whl.metadata (15 kB)\n",
      "Collecting aiofiles<24.0,>=22.0 (from gradio)\n",
      "  Downloading aiofiles-23.2.1-py3-none-any.whl.metadata (9.7 kB)\n",
      "Collecting altair<6.0,>=4.2.0 (from gradio)\n",
      "  Downloading altair-5.2.0-py3-none-any.whl.metadata (8.7 kB)\n",
      "Collecting fastapi (from gradio)\n",
      "  Downloading fastapi-0.110.0-py3-none-any.whl.metadata (25 kB)\n",
      "Collecting ffmpy (from gradio)\n",
      "  Downloading ffmpy-0.3.2.tar.gz (5.5 kB)\n",
      "  Preparing metadata (setup.py): started\n",
      "  Preparing metadata (setup.py): finished with status 'done'\n",
      "Collecting gradio-client==0.14.0 (from gradio)\n",
      "  Downloading gradio_client-0.14.0-py3-none-any.whl.metadata (7.1 kB)\n",
      "Requirement already satisfied: httpx>=0.24.1 in c:\\users\\hunter\\appdata\\local\\programs\\python\\python311\\lib\\site-packages (from gradio) (0.27.0)\n",
      "Requirement already satisfied: huggingface-hub>=0.19.3 in c:\\users\\hunter\\appdata\\local\\programs\\python\\python311\\lib\\site-packages (from gradio) (0.22.1)\n",
      "Collecting importlib-resources<7.0,>=1.3 (from gradio)\n",
      "  Downloading importlib_resources-6.4.0-py3-none-any.whl.metadata (3.9 kB)\n",
      "Requirement already satisfied: jinja2<4.0 in c:\\users\\hunter\\appdata\\local\\programs\\python\\python311\\lib\\site-packages (from gradio) (3.1.2)\n",
      "Requirement already satisfied: markupsafe~=2.0 in c:\\users\\hunter\\appdata\\local\\programs\\python\\python311\\lib\\site-packages (from gradio) (2.1.3)\n",
      "Requirement already satisfied: matplotlib~=3.0 in c:\\users\\hunter\\appdata\\local\\programs\\python\\python311\\lib\\site-packages (from gradio) (3.7.1)\n",
      "Requirement already satisfied: numpy~=1.0 in c:\\users\\hunter\\appdata\\local\\programs\\python\\python311\\lib\\site-packages (from gradio) (1.26.3)\n",
      "Collecting orjson~=3.0 (from gradio)\n",
      "  Downloading orjson-3.10.0-cp311-none-win_amd64.whl.metadata (50 kB)\n",
      "     ---------------------------------------- 0.0/50.7 kB ? eta -:--:--\n",
      "     ---------------------------------------- 50.7/50.7 kB ? eta 0:00:00\n",
      "Requirement already satisfied: packaging in c:\\users\\hunter\\appdata\\local\\programs\\python\\python311\\lib\\site-packages (from gradio) (23.1)\n",
      "Requirement already satisfied: pandas<3.0,>=1.0 in c:\\users\\hunter\\appdata\\local\\programs\\python\\python311\\lib\\site-packages (from gradio) (2.0.3)\n",
      "Requirement already satisfied: pillow<11.0,>=8.0 in c:\\users\\hunter\\appdata\\local\\programs\\python\\python311\\lib\\site-packages (from gradio) (10.0.0)\n",
      "Requirement already satisfied: pydantic>=2.0 in c:\\users\\hunter\\appdata\\local\\programs\\python\\python311\\lib\\site-packages (from gradio) (2.6.4)\n",
      "Collecting pydub (from gradio)\n",
      "  Downloading pydub-0.25.1-py2.py3-none-any.whl.metadata (1.4 kB)\n",
      "Collecting python-multipart>=0.0.9 (from gradio)\n",
      "  Downloading python_multipart-0.0.9-py3-none-any.whl.metadata (2.5 kB)\n",
      "Requirement already satisfied: pyyaml<7.0,>=5.0 in c:\\users\\hunter\\appdata\\local\\programs\\python\\python311\\lib\\site-packages (from gradio) (6.0)\n",
      "Collecting ruff>=0.2.2 (from gradio)\n",
      "  Downloading ruff-0.3.4-py3-none-win_amd64.whl.metadata (24 kB)\n",
      "Collecting semantic-version~=2.0 (from gradio)\n",
      "  Downloading semantic_version-2.10.0-py2.py3-none-any.whl.metadata (9.7 kB)\n",
      "Collecting tomlkit==0.12.0 (from gradio)\n",
      "  Downloading tomlkit-0.12.0-py3-none-any.whl.metadata (2.7 kB)\n",
      "Collecting typer<1.0,>=0.9 (from typer[all]<1.0,>=0.9; sys_platform != \"emscripten\"->gradio)\n",
      "  Downloading typer-0.11.0-py3-none-any.whl.metadata (13 kB)\n",
      "Requirement already satisfied: typing-extensions~=4.0 in c:\\users\\hunter\\appdata\\local\\programs\\python\\python311\\lib\\site-packages (from gradio) (4.10.0)\n",
      "Collecting uvicorn>=0.14.0 (from gradio)\n",
      "  Downloading uvicorn-0.29.0-py3-none-any.whl.metadata (6.3 kB)\n",
      "Requirement already satisfied: fsspec in c:\\users\\hunter\\appdata\\local\\programs\\python\\python311\\lib\\site-packages (from gradio-client==0.14.0->gradio) (2024.3.1)\n",
      "Collecting websockets<12.0,>=10.0 (from gradio-client==0.14.0->gradio)\n",
      "  Downloading websockets-11.0.3-cp311-cp311-win_amd64.whl.metadata (6.8 kB)\n",
      "Requirement already satisfied: jsonschema>=3.0 in c:\\users\\hunter\\appdata\\local\\programs\\python\\python311\\lib\\site-packages (from altair<6.0,>=4.2.0->gradio) (4.17.3)\n",
      "Collecting toolz (from altair<6.0,>=4.2.0->gradio)\n",
      "  Downloading toolz-0.12.1-py3-none-any.whl.metadata (5.1 kB)\n",
      "Requirement already satisfied: anyio in c:\\users\\hunter\\appdata\\local\\programs\\python\\python311\\lib\\site-packages (from httpx>=0.24.1->gradio) (3.7.0)\n",
      "Requirement already satisfied: certifi in c:\\users\\hunter\\appdata\\local\\programs\\python\\python311\\lib\\site-packages (from httpx>=0.24.1->gradio) (2023.5.7)\n",
      "Requirement already satisfied: httpcore==1.* in c:\\users\\hunter\\appdata\\local\\programs\\python\\python311\\lib\\site-packages (from httpx>=0.24.1->gradio) (1.0.4)\n",
      "Requirement already satisfied: idna in c:\\users\\hunter\\appdata\\local\\programs\\python\\python311\\lib\\site-packages (from httpx>=0.24.1->gradio) (3.4)\n",
      "Requirement already satisfied: sniffio in c:\\users\\hunter\\appdata\\local\\programs\\python\\python311\\lib\\site-packages (from httpx>=0.24.1->gradio) (1.3.0)\n",
      "Requirement already satisfied: h11<0.15,>=0.13 in c:\\users\\hunter\\appdata\\local\\programs\\python\\python311\\lib\\site-packages (from httpcore==1.*->httpx>=0.24.1->gradio) (0.14.0)\n",
      "Requirement already satisfied: filelock in c:\\users\\hunter\\appdata\\local\\programs\\python\\python311\\lib\\site-packages (from huggingface-hub>=0.19.3->gradio) (3.12.4)\n",
      "Requirement already satisfied: requests in c:\\users\\hunter\\appdata\\local\\programs\\python\\python311\\lib\\site-packages (from huggingface-hub>=0.19.3->gradio) (2.31.0)\n",
      "Requirement already satisfied: tqdm>=4.42.1 in c:\\users\\hunter\\appdata\\local\\programs\\python\\python311\\lib\\site-packages (from huggingface-hub>=0.19.3->gradio) (4.66.2)\n",
      "Requirement already satisfied: contourpy>=1.0.1 in c:\\users\\hunter\\appdata\\local\\programs\\python\\python311\\lib\\site-packages (from matplotlib~=3.0->gradio) (1.1.0)\n",
      "Requirement already satisfied: cycler>=0.10 in c:\\users\\hunter\\appdata\\local\\programs\\python\\python311\\lib\\site-packages (from matplotlib~=3.0->gradio) (0.11.0)\n",
      "Requirement already satisfied: fonttools>=4.22.0 in c:\\users\\hunter\\appdata\\local\\programs\\python\\python311\\lib\\site-packages (from matplotlib~=3.0->gradio) (4.40.0)\n",
      "Requirement already satisfied: kiwisolver>=1.0.1 in c:\\users\\hunter\\appdata\\local\\programs\\python\\python311\\lib\\site-packages (from matplotlib~=3.0->gradio) (1.4.4)\n",
      "Requirement already satisfied: pyparsing>=2.3.1 in c:\\users\\hunter\\appdata\\local\\programs\\python\\python311\\lib\\site-packages (from matplotlib~=3.0->gradio) (3.1.0)\n",
      "Requirement already satisfied: python-dateutil>=2.7 in c:\\users\\hunter\\appdata\\local\\programs\\python\\python311\\lib\\site-packages (from matplotlib~=3.0->gradio) (2.8.2)\n",
      "Requirement already satisfied: pytz>=2020.1 in c:\\users\\hunter\\appdata\\local\\programs\\python\\python311\\lib\\site-packages (from pandas<3.0,>=1.0->gradio) (2023.3)\n",
      "Requirement already satisfied: tzdata>=2022.1 in c:\\users\\hunter\\appdata\\local\\programs\\python\\python311\\lib\\site-packages (from pandas<3.0,>=1.0->gradio) (2023.3)\n",
      "Requirement already satisfied: annotated-types>=0.4.0 in c:\\users\\hunter\\appdata\\local\\programs\\python\\python311\\lib\\site-packages (from pydantic>=2.0->gradio) (0.6.0)\n",
      "Requirement already satisfied: pydantic-core==2.16.3 in c:\\users\\hunter\\appdata\\local\\programs\\python\\python311\\lib\\site-packages (from pydantic>=2.0->gradio) (2.16.3)\n",
      "Collecting click>=8.0.0 (from typer<1.0,>=0.9->typer[all]<1.0,>=0.9; sys_platform != \"emscripten\"->gradio)\n",
      "  Downloading click-8.1.7-py3-none-any.whl.metadata (3.0 kB)\n",
      "Requirement already satisfied: colorama<0.5.0,>=0.4.3 in c:\\users\\hunter\\appdata\\local\\programs\\python\\python311\\lib\\site-packages (from typer[all]<1.0,>=0.9; sys_platform != \"emscripten\"->gradio) (0.4.6)\n",
      "Collecting shellingham<2.0.0,>=1.3.0 (from typer[all]<1.0,>=0.9; sys_platform != \"emscripten\"->gradio)\n",
      "  Downloading shellingham-1.5.4-py2.py3-none-any.whl.metadata (3.5 kB)\n",
      "Collecting rich<14.0.0,>=10.11.0 (from typer[all]<1.0,>=0.9; sys_platform != \"emscripten\"->gradio)\n",
      "  Downloading rich-13.7.1-py3-none-any.whl.metadata (18 kB)\n",
      "Collecting starlette<0.37.0,>=0.36.3 (from fastapi->gradio)\n",
      "  Downloading starlette-0.36.3-py3-none-any.whl.metadata (5.9 kB)\n",
      "Requirement already satisfied: attrs>=17.4.0 in c:\\users\\hunter\\appdata\\local\\programs\\python\\python311\\lib\\site-packages (from jsonschema>=3.0->altair<6.0,>=4.2.0->gradio) (23.1.0)\n",
      "Requirement already satisfied: pyrsistent!=0.17.0,!=0.17.1,!=0.17.2,>=0.14.0 in c:\\users\\hunter\\appdata\\local\\programs\\python\\python311\\lib\\site-packages (from jsonschema>=3.0->altair<6.0,>=4.2.0->gradio) (0.19.3)\n",
      "Requirement already satisfied: six>=1.5 in c:\\users\\hunter\\appdata\\local\\programs\\python\\python311\\lib\\site-packages (from python-dateutil>=2.7->matplotlib~=3.0->gradio) (1.16.0)\n",
      "Collecting markdown-it-py>=2.2.0 (from rich<14.0.0,>=10.11.0->typer[all]<1.0,>=0.9; sys_platform != \"emscripten\"->gradio)\n",
      "  Downloading markdown_it_py-3.0.0-py3-none-any.whl.metadata (6.9 kB)\n",
      "Requirement already satisfied: pygments<3.0.0,>=2.13.0 in c:\\users\\hunter\\appdata\\local\\programs\\python\\python311\\lib\\site-packages (from rich<14.0.0,>=10.11.0->typer[all]<1.0,>=0.9; sys_platform != \"emscripten\"->gradio) (2.15.1)\n",
      "Requirement already satisfied: charset-normalizer<4,>=2 in c:\\users\\hunter\\appdata\\local\\programs\\python\\python311\\lib\\site-packages (from requests->huggingface-hub>=0.19.3->gradio) (3.2.0)\n",
      "Requirement already satisfied: urllib3<3,>=1.21.1 in c:\\users\\hunter\\appdata\\local\\programs\\python\\python311\\lib\\site-packages (from requests->huggingface-hub>=0.19.3->gradio) (2.0.3)\n",
      "Collecting mdurl~=0.1 (from markdown-it-py>=2.2.0->rich<14.0.0,>=10.11.0->typer[all]<1.0,>=0.9; sys_platform != \"emscripten\"->gradio)\n",
      "  Downloading mdurl-0.1.2-py3-none-any.whl.metadata (1.6 kB)\n",
      "Downloading gradio-4.24.0-py3-none-any.whl (17.1 MB)\n",
      "   ---------------------------------------- 0.0/17.1 MB ? eta -:--:--\n",
      "   - -------------------------------------- 0.4/17.1 MB 13.5 MB/s eta 0:00:02\n",
      "   -- ------------------------------------- 1.0/17.1 MB 12.3 MB/s eta 0:00:02\n",
      "   --- ------------------------------------ 1.5/17.1 MB 11.9 MB/s eta 0:00:02\n",
      "   ---- ----------------------------------- 2.0/17.1 MB 11.8 MB/s eta 0:00:02\n",
      "   ----- ---------------------------------- 2.6/17.1 MB 11.6 MB/s eta 0:00:02\n",
      "   ------- -------------------------------- 3.1/17.1 MB 11.6 MB/s eta 0:00:02\n",
      "   -------- ------------------------------- 3.6/17.1 MB 11.6 MB/s eta 0:00:02\n",
      "   --------- ------------------------------ 4.2/17.1 MB 11.6 MB/s eta 0:00:02\n",
      "   ----------- ---------------------------- 4.7/17.1 MB 11.6 MB/s eta 0:00:02\n",
      "   ------------ --------------------------- 5.3/17.1 MB 11.6 MB/s eta 0:00:02\n",
      "   ------------- -------------------------- 5.8/17.1 MB 11.6 MB/s eta 0:00:01\n",
      "   -------------- ------------------------- 6.3/17.1 MB 11.9 MB/s eta 0:00:01\n",
      "   ---------------- ----------------------- 6.9/17.1 MB 11.9 MB/s eta 0:00:01\n",
      "   ----------------- ---------------------- 7.4/17.1 MB 11.8 MB/s eta 0:00:01\n",
      "   ------------------ --------------------- 7.9/17.1 MB 11.8 MB/s eta 0:00:01\n",
      "   ------------------- -------------------- 8.4/17.1 MB 11.7 MB/s eta 0:00:01\n",
      "   --------------------- ------------------ 9.0/17.1 MB 11.7 MB/s eta 0:00:01\n",
      "   ---------------------- ----------------- 9.5/17.1 MB 11.7 MB/s eta 0:00:01\n",
      "   ----------------------- ---------------- 10.1/17.1 MB 11.7 MB/s eta 0:00:01\n",
      "   ------------------------ --------------- 10.6/17.1 MB 11.7 MB/s eta 0:00:01\n",
      "   -------------------------- ------------- 11.1/17.1 MB 11.9 MB/s eta 0:00:01\n",
      "   --------------------------- ------------ 11.7/17.1 MB 11.9 MB/s eta 0:00:01\n",
      "   ---------------------------- ----------- 12.2/17.1 MB 11.9 MB/s eta 0:00:01\n",
      "   ----------------------------- ---------- 12.7/17.1 MB 11.9 MB/s eta 0:00:01\n",
      "   ------------------------------- -------- 13.3/17.1 MB 11.9 MB/s eta 0:00:01\n",
      "   -------------------------------- ------- 13.8/17.1 MB 11.9 MB/s eta 0:00:01\n",
      "   --------------------------------- ------ 14.3/17.1 MB 11.7 MB/s eta 0:00:01\n",
      "   ---------------------------------- ----- 14.9/17.1 MB 11.7 MB/s eta 0:00:01\n",
      "   ------------------------------------ --- 15.4/17.1 MB 11.7 MB/s eta 0:00:01\n",
      "   ------------------------------------- -- 15.9/17.1 MB 11.7 MB/s eta 0:00:01\n",
      "   -------------------------------------- - 16.5/17.1 MB 11.9 MB/s eta 0:00:01\n",
      "   ---------------------------------------  17.0/17.1 MB 11.9 MB/s eta 0:00:01\n",
      "   ---------------------------------------  17.1/17.1 MB 11.7 MB/s eta 0:00:01\n",
      "   ---------------------------------------  17.1/17.1 MB 11.7 MB/s eta 0:00:01\n",
      "   ---------------------------------------  17.1/17.1 MB 11.7 MB/s eta 0:00:01\n",
      "   ---------------------------------------- 17.1/17.1 MB 10.1 MB/s eta 0:00:00\n",
      "Downloading gradio_client-0.14.0-py3-none-any.whl (312 kB)\n",
      "   ---------------------------------------- 0.0/312.4 kB ? eta -:--:--\n",
      "   ---------------------------------------- 312.4/312.4 kB 9.4 MB/s eta 0:00:00\n",
      "Downloading tomlkit-0.12.0-py3-none-any.whl (37 kB)\n",
      "Downloading aiofiles-23.2.1-py3-none-any.whl (15 kB)\n",
      "Downloading altair-5.2.0-py3-none-any.whl (996 kB)\n",
      "   ---------------------------------------- 0.0/996.9 kB ? eta -:--:--\n",
      "   ----------------- ---------------------- 440.3/996.9 kB 9.2 MB/s eta 0:00:01\n",
      "   --------------------------------------  972.8/996.9 kB 10.2 MB/s eta 0:00:01\n",
      "   ---------------------------------------- 996.9/996.9 kB 9.1 MB/s eta 0:00:00\n",
      "Downloading importlib_resources-6.4.0-py3-none-any.whl (38 kB)\n",
      "Downloading orjson-3.10.0-cp311-none-win_amd64.whl (139 kB)\n",
      "   ---------------------------------------- 0.0/139.2 kB ? eta -:--:--\n",
      "   ---------------------------------------- 139.2/139.2 kB 4.2 MB/s eta 0:00:00\n",
      "Downloading python_multipart-0.0.9-py3-none-any.whl (22 kB)\n",
      "Downloading ruff-0.3.4-py3-none-win_amd64.whl (8.4 MB)\n",
      "   ---------------------------------------- 0.0/8.4 MB ? eta -:--:--\n",
      "   -- ------------------------------------- 0.5/8.4 MB 15.7 MB/s eta 0:00:01\n",
      "   ---- ----------------------------------- 1.0/8.4 MB 13.1 MB/s eta 0:00:01\n",
      "   ------- -------------------------------- 1.6/8.4 MB 12.4 MB/s eta 0:00:01\n",
      "   --------- ------------------------------ 2.1/8.4 MB 12.1 MB/s eta 0:00:01\n",
      "   ------------ --------------------------- 2.6/8.4 MB 11.9 MB/s eta 0:00:01\n",
      "   -------------- ------------------------- 3.1/8.4 MB 11.8 MB/s eta 0:00:01\n",
      "   ---------------- ----------------------- 3.5/8.4 MB 11.8 MB/s eta 0:00:01\n",
      "   ------------------ --------------------- 3.9/8.4 MB 11.4 MB/s eta 0:00:01\n",
      "   --------------------- ------------------ 4.4/8.4 MB 11.3 MB/s eta 0:00:01\n",
      "   ----------------------- ---------------- 5.0/8.4 MB 11.3 MB/s eta 0:00:01\n",
      "   -------------------------- ------------- 5.5/8.4 MB 11.3 MB/s eta 0:00:01\n",
      "   ---------------------------- ----------- 6.0/8.4 MB 11.3 MB/s eta 0:00:01\n",
      "   ------------------------------- -------- 6.6/8.4 MB 11.3 MB/s eta 0:00:01\n",
      "   --------------------------------- ------ 7.1/8.4 MB 11.6 MB/s eta 0:00:01\n",
      "   ------------------------------------ --- 7.6/8.4 MB 11.4 MB/s eta 0:00:01\n",
      "   -------------------------------------- - 8.2/8.4 MB 11.6 MB/s eta 0:00:01\n",
      "   ---------------------------------------  8.4/8.4 MB 11.5 MB/s eta 0:00:01\n",
      "   ---------------------------------------  8.4/8.4 MB 11.5 MB/s eta 0:00:01\n",
      "   ---------------------------------------- 8.4/8.4 MB 10.4 MB/s eta 0:00:00\n",
      "Downloading semantic_version-2.10.0-py2.py3-none-any.whl (15 kB)\n",
      "Downloading typer-0.11.0-py3-none-any.whl (43 kB)\n",
      "   ---------------------------------------- 0.0/43.6 kB ? eta -:--:--\n",
      "   ---------------------------------------- 43.6/43.6 kB 2.1 MB/s eta 0:00:00\n",
      "Downloading uvicorn-0.29.0-py3-none-any.whl (60 kB)\n",
      "   ---------------------------------------- 0.0/60.8 kB ? eta -:--:--\n",
      "   ---------------------------------------- 60.8/60.8 kB 3.4 MB/s eta 0:00:00\n",
      "Downloading fastapi-0.110.0-py3-none-any.whl (92 kB)\n",
      "   ---------------------------------------- 0.0/92.1 kB ? eta -:--:--\n",
      "   ---------------------------------------- 92.1/92.1 kB 5.1 MB/s eta 0:00:00\n",
      "Downloading pydub-0.25.1-py2.py3-none-any.whl (32 kB)\n",
      "Downloading click-8.1.7-py3-none-any.whl (97 kB)\n",
      "   ---------------------------------------- 0.0/97.9 kB ? eta -:--:--\n",
      "   ---------------------------------------- 97.9/97.9 kB 5.5 MB/s eta 0:00:00\n",
      "Downloading rich-13.7.1-py3-none-any.whl (240 kB)\n",
      "   ---------------------------------------- 0.0/240.7 kB ? eta -:--:--\n",
      "   ---------------------------------------- 240.7/240.7 kB 7.2 MB/s eta 0:00:00\n",
      "Downloading shellingham-1.5.4-py2.py3-none-any.whl (9.8 kB)\n",
      "Downloading starlette-0.36.3-py3-none-any.whl (71 kB)\n",
      "   ---------------------------------------- 0.0/71.5 kB ? eta -:--:--\n",
      "   ---------------------------------------- 71.5/71.5 kB 3.8 MB/s eta 0:00:00\n",
      "Downloading websockets-11.0.3-cp311-cp311-win_amd64.whl (124 kB)\n",
      "   ---------------------------------------- 0.0/124.7 kB ? eta -:--:--\n",
      "   ---------------------------------------- 124.7/124.7 kB 7.2 MB/s eta 0:00:00\n",
      "Downloading toolz-0.12.1-py3-none-any.whl (56 kB)\n",
      "   ---------------------------------------- 0.0/56.1 kB ? eta -:--:--\n",
      "   ---------------------------------------- 56.1/56.1 kB 2.9 MB/s eta 0:00:00\n",
      "Downloading markdown_it_py-3.0.0-py3-none-any.whl (87 kB)\n",
      "   ---------------------------------------- 0.0/87.5 kB ? eta -:--:--\n",
      "   ---------------------------------------- 87.5/87.5 kB 5.2 MB/s eta 0:00:00\n",
      "Downloading mdurl-0.1.2-py3-none-any.whl (10.0 kB)\n",
      "Building wheels for collected packages: ffmpy\n",
      "  Building wheel for ffmpy (setup.py): started\n",
      "  Building wheel for ffmpy (setup.py): finished with status 'done'\n",
      "  Created wheel for ffmpy: filename=ffmpy-0.3.2-py3-none-any.whl size=5606 sha256=26e47c712663ca695bc82f03ff2ddbbaa0cb050341b936532c2dc38c1b5dc029\n",
      "  Stored in directory: c:\\users\\hunter\\appdata\\local\\pip\\cache\\wheels\\55\\3c\\f2\\f6e34046bac0d57c13c7d08123b85872423b89c8f59bafda51\n",
      "Successfully built ffmpy\n",
      "Installing collected packages: pydub, ffmpy, websockets, toolz, tomlkit, shellingham, semantic-version, ruff, python-multipart, orjson, mdurl, importlib-resources, click, aiofiles, uvicorn, typer, starlette, markdown-it-py, rich, gradio-client, fastapi, altair, gradio\n",
      "Successfully installed aiofiles-23.2.1 altair-5.2.0 click-8.1.7 fastapi-0.110.0 ffmpy-0.3.2 gradio-4.24.0 gradio-client-0.14.0 importlib-resources-6.4.0 markdown-it-py-3.0.0 mdurl-0.1.2 orjson-3.10.0 pydub-0.25.1 python-multipart-0.0.9 rich-13.7.1 ruff-0.3.4 semantic-version-2.10.0 shellingham-1.5.4 starlette-0.36.3 tomlkit-0.12.0 toolz-0.12.1 typer-0.11.0 uvicorn-0.29.0 websockets-11.0.3\n"
     ]
    },
    {
     "name": "stderr",
     "output_type": "stream",
     "text": [
      "\n",
      "[notice] A new release of pip is available: 23.3.2 -> 24.0\n",
      "[notice] To update, run: python.exe -m pip install --upgrade pip\n"
     ]
    }
   ],
   "source": [
    "# Install gradio\n",
    "!pip install gradio"
   ]
  },
  {
   "cell_type": "code",
   "execution_count": 23,
   "id": "050f7bf6",
   "metadata": {},
   "outputs": [
    {
     "name": "stdout",
     "output_type": "stream",
     "text": [
      "Closing server running on port: 7860\n",
      "Closing server running on port: 7860\n",
      "Closing server running on port: 7860\n",
      "Closing server running on port: 7860\n",
      "Running on local URL:  http://127.0.0.1:7860\n",
      "\n",
      "To create a public link, set `share=True` in `launch()`.\n"
     ]
    },
    {
     "data": {
      "text/html": [
       "<div><iframe src=\"http://127.0.0.1:7860/\" width=\"100%\" height=\"500\" allow=\"autoplay; camera; microphone; clipboard-read; clipboard-write;\" frameborder=\"0\" allowfullscreen></iframe></div>"
      ],
      "text/plain": [
       "<IPython.core.display.HTML object>"
      ]
     },
     "metadata": {},
     "output_type": "display_data"
    },
    {
     "data": {
      "text/plain": []
     },
     "execution_count": 23,
     "metadata": {},
     "output_type": "execute_result"
    },
    {
     "name": "stderr",
     "output_type": "stream",
     "text": [
      "Your max_length is set to 142, but your input_length is only 123. Since this is a summarization task, where outputs shorter than the input are typically wanted, you might consider decreasing max_length manually, e.g. summarizer('...', max_length=61)\n"
     ]
    }
   ],
   "source": [
    "#Launch interface / Share with url: demo.launch(share = True)\n",
    "import gradio as gr\n",
    "def summarize(input):\n",
    "    output = get_completion(input)\n",
    "    return output[0]['summary_text']\n",
    "    \n",
    "gr.close_all()\n",
    "demo = gr.Interface(fn=summarize, inputs=[gr.Textbox(label = \"Text to Summarize\", lines =6)],\n",
    "                    outputs=[gr.Textbox(label = \"Summary Results\", lines = 3)])\n",
    "demo.launch()"
   ]
  },
  {
   "cell_type": "markdown",
   "id": "a37638e9",
   "metadata": {},
   "source": [
    "--------------------------------------------------------------------------------------"
   ]
  },
  {
   "cell_type": "markdown",
   "id": "0faa1467",
   "metadata": {},
   "source": [
    "## Summary\n",
    "\n",
    "- Used HF API key to access summarization model \n",
    "- Tested the text was summarized \n",
    "- Make a shareable link for other to use "
   ]
  },
  {
   "cell_type": "code",
   "execution_count": null,
   "id": "4f90a8ad",
   "metadata": {},
   "outputs": [],
   "source": []
  }
 ],
 "metadata": {
  "kernelspec": {
   "display_name": "Python 3 (ipykernel)",
   "language": "python",
   "name": "python3"
  },
  "language_info": {
   "codemirror_mode": {
    "name": "ipython",
    "version": 3
   },
   "file_extension": ".py",
   "mimetype": "text/x-python",
   "name": "python",
   "nbconvert_exporter": "python",
   "pygments_lexer": "ipython3",
   "version": "3.11.4"
  }
 },
 "nbformat": 4,
 "nbformat_minor": 5
}
